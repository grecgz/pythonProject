{
 "cells": [
  {
   "cell_type": "code",
   "execution_count": 8,
   "metadata": {},
   "outputs": [],
   "source": [
    "n, k = int(input()), int(input())\n",
    "# if n > k:\n",
    "#     print('NO')\n",
    "# else:\n",
    "#     if n < k:\n",
    "#         print('YES')\n",
    "#     else:\n",
    "#         if n == k:\n",
    "#             print(\"Don't know\")\n",
    "#  Приоритеное решение ниже\n",
    "if n > k:\n",
    "    print('NO')\n",
    "elif n < k:\n",
    "    print('YES')\n",
    "elif n == k:\n",
    "    print(\"Don't know\")\n"
   ]
  },
  {
   "cell_type": "code",
   "execution_count": 2,
   "metadata": {},
   "outputs": [
    {
     "name": "stdout",
     "output_type": "stream",
     "text": [
      "Разносторонний\n"
     ]
    }
   ],
   "source": [
    "a, b, c = int(input()), int(input()), int(input())\n",
    "if a == b == c:\n",
    "    print('Равносторонний')\n",
    "elif a == b or a == c or b == c:\n",
    "    print('Равнобедренный')\n",
    "else:\n",
    "    print('Разносторонний')"
   ]
  },
  {
   "cell_type": "code",
   "execution_count": 7,
   "metadata": {},
   "outputs": [
    {
     "name": "stdout",
     "output_type": "stream",
     "text": [
      "34\n"
     ]
    }
   ],
   "source": [
    "a, b, c = int(input()), int(input()), int(input())\n",
    "if b < a < c or c < a < b:\n",
    "    print(a)\n",
    "elif a < b < c or c < b < a:\n",
    "    print(b)\n",
    "else:\n",
    "    print(c)"
   ]
  },
  {
   "cell_type": "code",
   "execution_count": 8,
   "metadata": {},
   "outputs": [
    {
     "name": "stdout",
     "output_type": "stream",
     "text": [
      "30\n"
     ]
    }
   ],
   "source": [
    "m = int(input())\n",
    "if m == 2:\n",
    "    print('28')\n",
    "elif m == 4 or m == 6 or m == 9 or m == 11:\n",
    "    print('30')\n",
    "else:\n",
    "    print('31')"
   ]
  },
  {
   "cell_type": "code",
   "execution_count": null,
   "metadata": {},
   "outputs": [],
   "source": [
    "v = int(input())\n",
    "if v < 60:\n",
    "    print('Легкий вес')\n",
    "elif v < 64:\n",
    "    print('Первый полусредний вес')\n",
    "elif v < 69:\n",
    "    print('Полусредний вес')"
   ]
  },
  {
   "cell_type": "code",
   "execution_count": 12,
   "metadata": {},
   "outputs": [
    {
     "name": "stdout",
     "output_type": "stream",
     "text": [
      "Неверная операция\n"
     ]
    }
   ],
   "source": [
    "a, b = int(input()), int(input())\n",
    "c = input()\n",
    "if b == 0 and c == \"/\":\n",
    "    print ('На ноль делить нельзя!')\n",
    "elif c == \"/\":\n",
    "    print(a / b)\n",
    "elif c == \"*\":\n",
    "    print(a * b)\n",
    "elif c == \"-\":\n",
    "    print(a - b)\n",
    "elif c == \"+\":\n",
    "    print(a + b)\n",
    "else:\n",
    "    print('Неверная операция')  "
   ]
  },
  {
   "cell_type": "code",
   "execution_count": 1,
   "metadata": {},
   "outputs": [
    {
     "name": "stdout",
     "output_type": "stream",
     "text": [
      "/\n"
     ]
    }
   ],
   "source": [
    "c = input()\n",
    "print(c)"
   ]
  }
 ],
 "metadata": {
  "kernelspec": {
   "display_name": "Python 3",
   "language": "python",
   "name": "python3"
  },
  "language_info": {
   "codemirror_mode": {
    "name": "ipython",
    "version": 3
   },
   "file_extension": ".py",
   "mimetype": "text/x-python",
   "name": "python",
   "nbconvert_exporter": "python",
   "pygments_lexer": "ipython3",
   "version": "3.11.0"
  },
  "orig_nbformat": 4
 },
 "nbformat": 4,
 "nbformat_minor": 2
}
