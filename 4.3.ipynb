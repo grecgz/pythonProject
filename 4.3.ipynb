{
 "cells": [
  {
   "cell_type": "code",
   "execution_count": 8,
   "metadata": {},
   "outputs": [],
   "source": [
    "n, k = int(input()), int(input())\n",
    "# if n > k:\n",
    "#     print('NO')\n",
    "# else:\n",
    "#     if n < k:\n",
    "#         print('YES')\n",
    "#     else:\n",
    "#         if n == k:\n",
    "#             print(\"Don't know\")\n",
    "#  Приоритеное решение ниже\n",
    "if n > k:\n",
    "    print('NO')\n",
    "elif n < k:\n",
    "    print('YES')\n",
    "elif n == k:\n",
    "    print(\"Don't know\")\n"
   ]
  },
  {
   "cell_type": "code",
   "execution_count": null,
   "metadata": {},
   "outputs": [],
   "source": [
    "a, b, c = int(input()), int(input()), int(input())\n",
    "if "
   ]
  }
 ],
 "metadata": {
  "kernelspec": {
   "display_name": "Python 3",
   "language": "python",
   "name": "python3"
  },
  "language_info": {
   "codemirror_mode": {
    "name": "ipython",
    "version": 3
   },
   "file_extension": ".py",
   "mimetype": "text/x-python",
   "name": "python",
   "nbconvert_exporter": "python",
   "pygments_lexer": "ipython3",
   "version": "3.10.8"
  },
  "orig_nbformat": 4
 },
 "nbformat": 4,
 "nbformat_minor": 2
}
