{
 "cells": [
  {
   "cell_type": "code",
   "execution_count": 1,
   "metadata": {},
   "outputs": [
    {
     "name": "stdout",
     "output_type": "stream",
     "text": [
      "122489.5\n"
     ]
    }
   ],
   "source": [
    "a, b = float(input()), float(input())\n",
    "S = a * b / 2\n",
    "print(S)"
   ]
  },
  {
   "cell_type": "code",
   "execution_count": 5,
   "metadata": {},
   "outputs": [
    {
     "name": "stdout",
     "output_type": "stream",
     "text": [
      "2.0\n"
     ]
    }
   ],
   "source": [
    "S, V1, V2 = float(input()), float(input()), float(input())\n",
    "t = S / (V1 + V2)\n",
    "print(t)"
   ]
  },
  {
   "cell_type": "code",
   "execution_count": 2,
   "metadata": {},
   "outputs": [
    {
     "name": "stdout",
     "output_type": "stream",
     "text": [
      "0.5\n"
     ]
    }
   ],
   "source": [
    "y = float(input())\n",
    "if y == 0:\n",
    "    print('Обратного числа не существует')\n",
    "else:\n",
    "    print(1 / y)"
   ]
  },
  {
   "cell_type": "code",
   "execution_count": null,
   "metadata": {},
   "outputs": [],
   "source": [
    "f = float(input())\n",
    "C = 5 / 9 * (f -32)\n",
    "print(C)"
   ]
  },
  {
   "cell_type": "code",
   "execution_count": 6,
   "metadata": {},
   "outputs": [
    {
     "name": "stdout",
     "output_type": "stream",
     "text": [
      "25.0\n"
     ]
    }
   ],
   "source": [
    "t = float(input())\n",
    "r = 10.5\n",
    "u = 4\n",
    "i = 2\n",
    "if t <= 2:\n",
    "    print(t * r)\n",
    "else:\n",
    "    print(i * r + (t - i) * u)\n"
   ]
  },
  {
   "cell_type": "code",
   "execution_count": 8,
   "metadata": {},
   "outputs": [
    {
     "name": "stdout",
     "output_type": "stream",
     "text": [
      "6\n"
     ]
    }
   ],
   "source": [
    "x = float(input())\n",
    "z = int(x)\n",
    "print(int((x - z) * 10))"
   ]
  },
  {
   "cell_type": "code",
   "execution_count": null,
   "metadata": {},
   "outputs": [],
   "source": [
    "x = float(input())\n",
    "z = int(x)\n",
    "print(x - z)"
   ]
  },
  {
   "cell_type": "code",
   "execution_count": 66,
   "metadata": {},
   "outputs": [
    {
     "name": "stdout",
     "output_type": "stream",
     "text": [
      "Наименьшее число = 1\n",
      "Наибольшее число = 5\n"
     ]
    }
   ],
   "source": [
    "a, b, c, d, e = int(input()), int(input()), int(input()), int(input()), int(input())\n",
    "m = min(a, b, c, d, e)\n",
    "n = max(a, b, c, d, e)\n",
    "print('Наименьшее число =', m)\n",
    "print('Наибольшее число =', n)"
   ]
  },
  {
   "cell_type": "code",
   "execution_count": null,
   "metadata": {},
   "outputs": [],
   "source": [
    "a, b, c = int(input()), int(input()), int(input())\n",
    "m = min(a, b, c)\n",
    "n = max(a, b, c)\n",
    "l = (a + b + c - m -n)\n",
    "print(n)\n",
    "print(l)\n",
    "print(m)"
   ]
  },
  {
   "cell_type": "code",
   "execution_count": 69,
   "metadata": {},
   "outputs": [
    {
     "name": "stdout",
     "output_type": "stream",
     "text": [
      "5 3 1\n"
     ]
    }
   ],
   "source": [
    "z = int(input())\n",
    "a = z // 100\n",
    "b = z % 100 // 10\n",
    "c = z % 10\n",
    "m = max(a, b, c)\n",
    "n = min(a, b, c)\n",
    "l = (a + b + c - m -n)\n",
    "if (m - n) == l:\n",
    "    print('Число интересное')\n",
    "else:\n",
    "    print('Число неинтересное')"
   ]
  },
  {
   "cell_type": "code",
   "execution_count": 72,
   "metadata": {},
   "outputs": [
    {
     "name": "stdout",
     "output_type": "stream",
     "text": [
      "88986\n"
     ]
    }
   ],
   "source": [
    "a, b, c, d, e = float(input()), float(input()), float(input()), float(input()), float(input())\n",
    "s = abs(a) + abs(b) + abs(c) + abs(d) + abs (e)\n",
    "print(s)"
   ]
  },
  {
   "cell_type": "code",
   "execution_count": null,
   "metadata": {},
   "outputs": [],
   "source": [
    "a, b, c, d = int(input()), int(input()), int(input()), int(input())\n",
    "s = abs(a - c) + abs(b - d)\n",
    "print(s)"
   ]
  },
  {
   "cell_type": "code",
   "execution_count": 73,
   "metadata": {},
   "outputs": [
    {
     "name": "stdout",
     "output_type": "stream",
     "text": [
      "10\n"
     ]
    }
   ],
   "source": [
    "a, b = int(input()), int(input())\n",
    "s = abs(a - b)\n",
    "print(s)\n"
   ]
  }
 ],
 "metadata": {
  "kernelspec": {
   "display_name": "Python 3",
   "language": "python",
   "name": "python3"
  },
  "language_info": {
   "codemirror_mode": {
    "name": "ipython",
    "version": 3
   },
   "file_extension": ".py",
   "mimetype": "text/x-python",
   "name": "python",
   "nbconvert_exporter": "python",
   "pygments_lexer": "ipython3",
   "version": "3.11.0"
  },
  "orig_nbformat": 4
 },
 "nbformat": 4,
 "nbformat_minor": 2
}
