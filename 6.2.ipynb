{
 "cells": [
  {
   "cell_type": "code",
   "execution_count": 22,
   "metadata": {},
   "outputs": [
    {
     "name": "stdout",
     "output_type": "stream",
     "text": [
      "\"Python is a great language!\", said Fred. \"I don't ever remember having this much fun before.\"\n"
     ]
    }
   ],
   "source": [
    "print('\"Python is a great language!\", said Fred. '+'\"I don' + \"'t ever remember having this much fun before.\"+'\"')"
   ]
  },
  {
   "cell_type": "code",
   "execution_count": 26,
   "metadata": {},
   "outputs": [
    {
     "name": "stdout",
     "output_type": "stream",
     "text": [
      "Hello qwe rty! You just delved into Python\n"
     ]
    }
   ],
   "source": [
    "n, s = str(input()), str(input())\n",
    "print('Hello ' + n + ' ' + s + '!' + \" You just delved into Python\")"
   ]
  },
  {
   "cell_type": "code",
   "execution_count": 40,
   "metadata": {},
   "outputs": [
    {
     "name": "stdout",
     "output_type": "stream",
     "text": [
      "Футбольная команда Barcelona имеет длину 9 символов\n"
     ]
    }
   ],
   "source": [
    "n = input()\n",
    "l = len(n)\n",
    "print('Футбольная команда ' + n + ' имеет длину', l, 'символов')"
   ]
  },
  {
   "cell_type": "code",
   "execution_count": null,
   "metadata": {},
   "outputs": [],
   "source": [
    "a, b, c = input(), input(), input()\n",
    "q = len(a)\n",
    "w = len(b)\n",
    "e = len(c)\n",
    "if q < w < e:\n",
    "    print(a)\n",
    "    print(c)\n",
    "elif q < e < w:\n",
    "    print(a)\n",
    "    print(b)\n",
    "elif w < e < q:\n",
    "    print(b)\n",
    "    print(a)\n",
    "elif w < q < e:\n",
    "    print(b)\n",
    "    print(a)\n",
    "elif e < q < w:\n",
    "    print(c)\n",
    "    print(b)\n",
    "else:\n",
    "    print(c)\n",
    "    print(a)"
   ]
  },
  {
   "cell_type": "code",
   "execution_count": 2,
   "metadata": {},
   "outputs": [
    {
     "name": "stdout",
     "output_type": "stream",
     "text": [
      "NO\n"
     ]
    }
   ],
   "source": [
    "a, b, c = input(), input(), input()\n",
    "q = len(a)\n",
    "w = len(b)\n",
    "e = len(c)\n",
    "if q == (w + e) / 2 or w == (q + e) / 2 or e == (q + w) / 2:\n",
    "    print('YES')\n",
    "else :\n",
    "    print('NO')"
   ]
  },
  {
   "cell_type": "code",
   "execution_count": 8,
   "metadata": {},
   "outputs": [
    {
     "name": "stdout",
     "output_type": "stream",
     "text": [
      "YES\n"
     ]
    }
   ],
   "source": [
    "s = input()\n",
    "if 'суббота' in s or 'воскресенье' in s:\n",
    "    print('YES')\n",
    "else:\n",
    "    print('NO')"
   ]
  },
  {
   "cell_type": "code",
   "execution_count": 9,
   "metadata": {},
   "outputs": [
    {
     "name": "stdout",
     "output_type": "stream",
     "text": [
      "YES\n"
     ]
    }
   ],
   "source": [
    "s = input()\n",
    "if '@' in s and '.' in s:\n",
    "    print('YES')\n",
    "else:\n",
    "    print('NO')"
   ]
  }
 ],
 "metadata": {
  "kernelspec": {
   "display_name": "Python 3",
   "language": "python",
   "name": "python3"
  },
  "language_info": {
   "codemirror_mode": {
    "name": "ipython",
    "version": 3
   },
   "file_extension": ".py",
   "mimetype": "text/x-python",
   "name": "python",
   "nbconvert_exporter": "python",
   "pygments_lexer": "ipython3",
   "version": "3.11.0"
  },
  "orig_nbformat": 4
 },
 "nbformat": 4,
 "nbformat_minor": 2
}
