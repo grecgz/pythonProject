{
 "cells": [
  {
   "cell_type": "code",
   "execution_count": null,
   "metadata": {},
   "outputs": [],
   "source": [
    "for i in range(5, 0, -1):\n",
    "    print(i, end=' ')\n",
    "print('Взлетаем!!!')"
   ]
  },
  {
   "cell_type": "code",
   "execution_count": null,
   "metadata": {},
   "outputs": [],
   "source": [
    "m, n = int(input()), int(input())\n",
    "for i in range(m, n + 1):\n",
    "    print(i)"
   ]
  },
  {
   "cell_type": "code",
   "execution_count": null,
   "metadata": {},
   "outputs": [],
   "source": [
    "m, n = int(input()), int(input())\n",
    "if m < n:\n",
    "    for i in range(m, n + 1):\n",
    "        print(i)\n",
    "elif n < m:\n",
    "    for j in range(m, n - 1, -1):\n",
    "        print(j)\n",
    "elif m == n:\n",
    "    print(m)"
   ]
  },
  {
   "cell_type": "code",
   "execution_count": null,
   "metadata": {},
   "outputs": [],
   "source": [
    "m, n = int(input()), int(input())\n",
    "for j in range(m, n - 1, -1):\n",
    "    if j % 2 != 0:\n",
    "        print(j)\n",
    "# for j in range(m + m % 2 - 1, n, -2):\n",
    "#     print(j)"
   ]
  },
  {
   "cell_type": "code",
   "execution_count": 26,
   "metadata": {},
   "outputs": [
    {
     "name": "stdout",
     "output_type": "stream",
     "text": [
      "17\n"
     ]
    }
   ],
   "source": [
    "m, n = int(input()), int(input())\n",
    "if m <= n:с\n",
    "    for i in range(m, n + 1):\n",
    "        if i % 17 == 0 or i % 10 == 9 or i % 15 == 0:\n",
    "            print(i)"
   ]
  },
  {
   "cell_type": "code",
   "execution_count": null,
   "metadata": {},
   "outputs": [],
   "source": [
    "m = int(input())\n",
    "for i in range(1, 11):\n",
    "    print(m, 'x', i, '=', m * i)"
   ]
  }
 ],
 "metadata": {
  "kernelspec": {
   "display_name": "Python 3",
   "language": "python",
   "name": "python3"
  },
  "language_info": {
   "codemirror_mode": {
    "name": "ipython",
    "version": 3
   },
   "file_extension": ".py",
   "mimetype": "text/x-python",
   "name": "python",
   "nbconvert_exporter": "python",
   "pygments_lexer": "ipython3",
   "version": "3.10.8"
  },
  "orig_nbformat": 4
 },
 "nbformat": 4,
 "nbformat_minor": 2
}
