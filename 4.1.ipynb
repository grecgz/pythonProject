{
 "cells": [
  {
   "cell_type": "code",
   "execution_count": 3,
   "metadata": {},
   "outputs": [
    {
     "name": "stdout",
     "output_type": "stream",
     "text": [
      "NO\n"
     ]
    }
   ],
   "source": [
    "#                        4.1.8\n",
    "a, b, c = int(input()), int(input()), int(input())\n",
    "an = b\n",
    "if an == (a + c) / 2:\n",
    "    print('YES')\n",
    "else:\n",
    "    print('NO')"
   ]
  },
  {
   "cell_type": "code",
   "execution_count": 5,
   "metadata": {},
   "outputs": [
    {
     "name": "stdout",
     "output_type": "stream",
     "text": [
      "10\n"
     ]
    }
   ],
   "source": [
    "#                       4.1.9\n",
    "x, y = int(input()), int(input())\n",
    "if x > y:\n",
    "    print(y)\n",
    "else:\n",
    "    print(x)"
   ]
  },
  {
   "cell_type": "code",
   "execution_count": 6,
   "metadata": {},
   "outputs": [
    {
     "name": "stdout",
     "output_type": "stream",
     "text": [
      "4\n"
     ]
    }
   ],
   "source": [
    "# 4.1.10\n",
    "x, y, z, w = int(input()), int(input()), int(input()), int(input())\n",
    "if x > y:\n",
    "    x = y\n",
    "if z > w:\n",
    "    z = w\n",
    "if x > z:\n",
    "    x = z\n",
    "else:\n",
    "    print(x)"
   ]
  },
  {
   "cell_type": "code",
   "execution_count": 11,
   "metadata": {},
   "outputs": [
    {
     "name": "stdout",
     "output_type": "stream",
     "text": [
      "детство\n"
     ]
    }
   ],
   "source": [
    "# 4.1.11\n",
    "age = int(input())\n",
    "if age <= 13:\n",
    "    print('детство')\n",
    "if 14 <= age <= 24:\n",
    "    print('молодость')\n",
    "if 25 <= age <= 59:\n",
    "    print('зрелость')\n",
    "if age >= 60:\n",
    "    print('старость')"
   ]
  },
  {
   "cell_type": "code",
   "execution_count": 6,
   "metadata": {},
   "outputs": [
    {
     "name": "stdout",
     "output_type": "stream",
     "text": [
      "6\n"
     ]
    }
   ],
   "source": [
    "# 4.1.12\n",
    "# a, b, c = int(input()), int(input()), int(input())\n",
    "# if a > 0 and b > 0 and c > 0:\n",
    "#     print(a + b + c)\n",
    "# elif a < 0 and b > 0 and c > 0:\n",
    "#     print(b + c)\n",
    "# elif a > 0 and b < 0 and c > 0:\n",
    "#     print(a + c)\n",
    "# elif a > 0 and b > 0 and c < 0:\n",
    "#     print(a + b)\n",
    "# elif a > 0 and b < 0 and c > 0:\n",
    "#     print(a)\n",
    "# elif a < 0 and b > 0 and c < 0:\n",
    "#     print(b)\n",
    "# elif a < 0 and b < 0 and c > 0:\n",
    "#     print(c)\n",
    "# elif a < 0 and b < 0 and c < 0:\n",
    "#     print(0)\n",
    "a, b, c = int(input()), int(input()), int(input())\n",
    "total = 0\n",
    "if a > 0:\n",
    "    total = total + a\n",
    "if b > 0:\n",
    "    total = total + b\n",
    "if c > 0:\n",
    "    total = total + c\n",
    "print(total)"
   ]
  }
 ],
 "metadata": {
  "kernelspec": {
   "display_name": "Python 3",
   "language": "python",
   "name": "python3"
  },
  "language_info": {
   "codemirror_mode": {
    "name": "ipython",
    "version": 3
   },
   "file_extension": ".py",
   "mimetype": "text/x-python",
   "name": "python",
   "nbconvert_exporter": "python",
   "pygments_lexer": "ipython3",
   "version": "3.10.8"
  },
  "orig_nbformat": 4
 },
 "nbformat": 4,
 "nbformat_minor": 2
}
