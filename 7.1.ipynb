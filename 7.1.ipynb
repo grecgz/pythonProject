{
 "cells": [
  {
   "cell_type": "code",
   "execution_count": 2,
   "metadata": {},
   "outputs": [
    {
     "name": "stdout",
     "output_type": "stream",
     "text": [
      "Python is awesome!\n",
      "Python is awesome!\n",
      "Python is awesome!\n",
      "Python is awesome!\n",
      "Python is awesome!\n",
      "Python is awesome!\n",
      "Python is awesome!\n",
      "Python is awesome!\n",
      "Python is awesome!\n",
      "Python is awesome!\n"
     ]
    }
   ],
   "source": [
    "for i in range(10):\n",
    "    print('Python is awesome!')"
   ]
  },
  {
   "cell_type": "code",
   "execution_count": 3,
   "metadata": {},
   "outputs": [
    {
     "name": "stdout",
     "output_type": "stream",
     "text": [
      "Век живи - век учись.\n",
      "Век живи - век учись.\n",
      "Век живи - век учись.\n",
      "Век живи - век учись.\n",
      "Век живи - век учись.\n",
      "Век живи - век учись.\n",
      "Век живи - век учись.\n",
      "Век живи - век учись.\n",
      "Век живи - век учись.\n",
      "Век живи - век учись.\n"
     ]
    }
   ],
   "source": [
    "a, b = input(), int(input())\n",
    "for i in range(b):\n",
    "    print(a)"
   ]
  },
  {
   "cell_type": "code",
   "execution_count": null,
   "metadata": {},
   "outputs": [],
   "source": [
    "for _ in range(6):\n",
    "    print('AAA')\n",
    "for _ in range(5):\n",
    "    print('BBBB')\n",
    "print('E')\n",
    "for _ in range(9):\n",
    "    print('TTTTT')\n",
    "print('G')"
   ]
  },
  {
   "cell_type": "code",
   "execution_count": 12,
   "metadata": {},
   "outputs": [
    {
     "name": "stdout",
     "output_type": "stream",
     "text": [
      "*******************\n",
      "*******************\n"
     ]
    }
   ],
   "source": [
    "n = int(input())\n",
    "for _ in range(n):\n",
    "    print('*******************')"
   ]
  },
  {
   "cell_type": "code",
   "execution_count": 11,
   "metadata": {},
   "outputs": [
    {
     "name": "stdout",
     "output_type": "stream",
     "text": [
      "0 2\n",
      "1 2\n",
      "2 2\n",
      "3 2\n",
      "4 2\n",
      "5 2\n",
      "6 2\n",
      "7 2\n",
      "8 2\n",
      "9 2\n"
     ]
    }
   ],
   "source": [
    "t = input()\n",
    "for i in range(10):\n",
    "    print(i, t)"
   ]
  },
  {
   "cell_type": "code",
   "execution_count": null,
   "metadata": {},
   "outputs": [],
   "source": [
    "n = int(input())\n",
    "for i in range(n + 1):\n",
    "    print('Квадрат числа', i, 'равен', pow(i, 2))"
   ]
  },
  {
   "cell_type": "code",
   "execution_count": null,
   "metadata": {},
   "outputs": [],
   "source": [
    "n = int(input())\n",
    "for i in range(n):\n",
    "    print('*' * (n -i))"
   ]
  },
  {
   "cell_type": "code",
   "execution_count": 7,
   "metadata": {},
   "outputs": [
    {
     "name": "stdout",
     "output_type": "stream",
     "text": [
      "1 10.0\n",
      "2 15.0\n",
      "3 22.5\n",
      "4 33.75\n",
      "5 50.625\n",
      "6 75.9375\n"
     ]
    }
   ],
   "source": [
    "m, p, n = int(input()), int(input()), int(input())\n",
    "for i in range(n):\n",
    "    print(i + 1, m * pow((1 +  p / 100), i))"
   ]
  }
 ],
 "metadata": {
  "kernelspec": {
   "display_name": "Python 3",
   "language": "python",
   "name": "python3"
  },
  "language_info": {
   "codemirror_mode": {
    "name": "ipython",
    "version": 3
   },
   "file_extension": ".py",
   "mimetype": "text/x-python",
   "name": "python",
   "nbconvert_exporter": "python",
   "pygments_lexer": "ipython3",
   "version": "3.11.0"
  },
  "orig_nbformat": 4
 },
 "nbformat": 4,
 "nbformat_minor": 2
}
