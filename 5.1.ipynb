{
 "cells": [
  {
   "cell_type": "code",
   "execution_count": null,
   "metadata": {},
   "outputs": [],
   "source": [
    "# put your python code here\n",
    "y = int(input())\n",
    "if y % 100 == 0:\n",
    "    print('YES')\n",
    "else:\n",
    "    print('NO')"
   ]
  },
  {
   "cell_type": "code",
   "execution_count": null,
   "metadata": {},
   "outputs": [],
   "source": [
    "a, b, c, d = int(input()), int(input()), int(input()), int(input())\n",
    "x = a + b\n",
    "z = c + d\n",
    "if (x % 2 == 0 and z % 2 == 0) or x == z or (x % 2 != 0 and z % 2 != 0):\n",
    "    print('YES')\n",
    "else:\n",
    "    print('NO')"
   ]
  },
  {
   "cell_type": "code",
   "execution_count": null,
   "metadata": {},
   "outputs": [],
   "source": [
    "# put your python code here\n",
    "a, b = int(input()), input()\n",
    "if (10 <= a <= 15) and b == 'f':\n",
    "    print('YES')\n",
    "else:\n",
    "    print('NO')"
   ]
  },
  {
   "cell_type": "code",
   "execution_count": null,
   "metadata": {},
   "outputs": [],
   "source": [
    "a = int(input())\n",
    "if a < 1 or 10 < a:\n",
    "    print('ошибка')\n",
    "elif a == 1:\n",
    "    print('I')\n",
    "elif a == 2:\n",
    "    print('II')\n",
    "elif a == 3:\n",
    "    print('III') \n",
    "elif a == 4:\n",
    "    print('IV')\n",
    "elif a == 5:\n",
    "    print('V')\n",
    "elif a == 6:\n",
    "    print('VI')\n",
    "elif a == 7:\n",
    "    print('VII')\n",
    "elif a == 8:\n",
    "    print('VIII')\n",
    "elif a == 9:\n",
    "    print('IX')\n",
    "elif a == 10:\n",
    "    print('X')"
   ]
  },
  {
   "cell_type": "code",
   "execution_count": null,
   "metadata": {},
   "outputs": [],
   "source": [
    "# put your python code here\n",
    "a = int(input())\n",
    "if a % 2 != 0 or 6 <= a <= 20:\n",
    "    print('YES')\n",
    "else:\n",
    "    print('NO')"
   ]
  },
  {
   "cell_type": "code",
   "execution_count": null,
   "metadata": {},
   "outputs": [],
   "source": [
    "a, b, c, d = int(input()), int(input()), int(input()), int(input())\n",
    "if ((a - c) == (b - d)) or ((a + b) == (c + d)):\n",
    "    print('YES')\n",
    "else:\n",
    "    print('NO')"
   ]
  },
  {
   "cell_type": "code",
   "execution_count": null,
   "metadata": {},
   "outputs": [],
   "source": [
    "a, b, c, d = int(input()), int(input()), int(input()), int(input())\n",
    "z = a + b + c + d\n",
    "if (z % 2 != 0 and a != c and b != d):\n",
    "    print('YES')\n",
    "else:\n",
    "    print('NO')"
   ]
  },
  {
   "cell_type": "code",
   "execution_count": null,
   "metadata": {},
   "outputs": [],
   "source": [
    "# put your python code here\n",
    "a, b, c, d = int(input()), int(input()), int(input()), int(input())\n",
    "if (a == c) or (b == d) or ((a - c) == (b - d)) or ((a + b) == (c + d)):\n",
    "    print('YES')\n",
    "else:\n",
    "    print('NO')"
   ]
  }
 ],
 "metadata": {
  "language_info": {
   "name": "python"
  },
  "orig_nbformat": 4
 },
 "nbformat": 4,
 "nbformat_minor": 2
}
