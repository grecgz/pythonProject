{
 "cells": [
  {
   "cell_type": "code",
   "execution_count": 2,
   "metadata": {},
   "outputs": [
    {
     "name": "stdout",
     "output_type": "stream",
     "text": [
      "1.4142135623730951\n",
      "4\n",
      "3\n"
     ]
    }
   ],
   "source": [
    "import math\n",
    "\n",
    "num1 = math.sqrt(2)     # вычисление корня квадратного из двух\n",
    "num2 = math.ceil(3.8)   # округление числа вверх\n",
    "num3 = math.floor(3.8)  # округление числа вниз\n",
    "\n",
    "print(num1)\n",
    "print(num2)\n",
    "print(num3)"
   ]
  },
  {
   "cell_type": "code",
   "execution_count": 7,
   "metadata": {},
   "outputs": [
    {
     "name": "stdout",
     "output_type": "stream",
     "text": [
      "106.68197610187018\n"
     ]
    }
   ],
   "source": [
    "from math import sqrt, pow\n",
    "x1, y1, x2, y2 = float(input()), float(input()), float(input()), float(input())\n",
    "p = sqrt(pow((x1 - x2), 2) + pow((y1 - y2), 2))\n",
    "print(p)\n"
   ]
  },
  {
   "cell_type": "code",
   "execution_count": 9,
   "metadata": {},
   "outputs": [],
   "source": [
    "# from math import pow, pi\n",
    "import math\n",
    "r = float(input())\n",
    "S = math.pi * math.pow(r, 2)\n",
    "C = 2 * math.pi * r\n",
    "print(S)\n",
    "print(C)"
   ]
  },
  {
   "cell_type": "code",
   "execution_count": 2,
   "metadata": {},
   "outputs": [],
   "source": [
    "import math\n",
    "x, y = float(input()), float(input())\n",
    "a = (x + y) / 2\n",
    "g = math.sqrt(x * y)\n",
    "sg = 2 * x * y / (x + y)\n",
    "sk = math.sqrt((x ** 2 + y ** 2) / 2)\n",
    "print(a)\n",
    "print(g)\n",
    "print(sg)\n",
    "print(sk)"
   ]
  },
  {
   "cell_type": "code",
   "execution_count": 14,
   "metadata": {},
   "outputs": [
    {
     "name": "stdout",
     "output_type": "stream",
     "text": [
      "1.6993587371177719\n"
     ]
    }
   ],
   "source": [
    "import math\n",
    "y = float(input())\n",
    "x = math.radians(y)\n",
    "f = math.sin(x) + math.cos(x) + math.tan(x) ** 2\n",
    "print(f)"
   ]
  },
  {
   "cell_type": "code",
   "execution_count": null,
   "metadata": {},
   "outputs": [],
   "source": [
    "import math\n",
    "x = float(input())\n",
    "y = math.floor(x) + math.ceil(x)\n",
    "print(y)"
   ]
  },
  {
   "cell_type": "code",
   "execution_count": 8,
   "metadata": {},
   "outputs": [
    {
     "name": "stdout",
     "output_type": "stream",
     "text": [
      "-1.0\n"
     ]
    }
   ],
   "source": [
    "import math\n",
    "a, b, c = float(input()), float(input()), float(input())\n",
    "d = pow(b, 2) - 4 * a * c\n",
    "if d > 0:\n",
    "    x1 = (- b + math.sqrt(d)) / (2 * a)\n",
    "    x2 = (- b - math.sqrt(d)) / (2 * a)\n",
    "    print(min(x1, x2))\n",
    "    print(max(x1, x2))\n",
    "elif d == 0:\n",
    "    x = - b / (2 * a)\n",
    "    print(x)\n",
    "else:\n",
    "    print('Нет корней')"
   ]
  },
  {
   "cell_type": "code",
   "execution_count": 9,
   "metadata": {},
   "outputs": [
    {
     "name": "stdout",
     "output_type": "stream",
     "text": [
      "1.7320508075688779\n"
     ]
    }
   ],
   "source": [
    "import math\n",
    "n, a = float(input()), float(input())\n",
    "S = n * pow(a, 2) / (4 * math.tan(math.pi / n))\n",
    "print(S)"
   ]
  }
 ],
 "metadata": {
  "kernelspec": {
   "display_name": "Python 3",
   "language": "python",
   "name": "python3"
  },
  "language_info": {
   "codemirror_mode": {
    "name": "ipython",
    "version": 3
   },
   "file_extension": ".py",
   "mimetype": "text/x-python",
   "name": "python",
   "nbconvert_exporter": "python",
   "pygments_lexer": "ipython3",
   "version": "3.11.0"
  },
  "orig_nbformat": 4
 },
 "nbformat": 4,
 "nbformat_minor": 2
}
